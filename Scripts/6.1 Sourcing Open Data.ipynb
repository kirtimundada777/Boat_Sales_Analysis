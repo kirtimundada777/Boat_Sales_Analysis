{
 "cells": [
  {
   "cell_type": "markdown",
   "id": "b123071d",
   "metadata": {},
   "source": [
    "## Importing libraries"
   ]
  },
  {
   "cell_type": "code",
   "execution_count": 27,
   "id": "3006a053",
   "metadata": {},
   "outputs": [],
   "source": [
    "#Import Libraries\n",
    "import pandas as pd\n",
    "import numpy as np\n",
    "import os\n",
    "import matplotlib.pyplot as plt\n",
    "import seaborn as sns\n",
    "import scipy"
   ]
  },
  {
   "cell_type": "markdown",
   "id": "e17696cc",
   "metadata": {},
   "source": [
    "## importing Boat Dataset "
   ]
  },
  {
   "cell_type": "code",
   "execution_count": 7,
   "id": "582fcc76",
   "metadata": {},
   "outputs": [],
   "source": [
    "path = r'C:\\Users\\ACER NITRO\\Documents\\Boat_dataset'"
   ]
  },
  {
   "cell_type": "code",
   "execution_count": 8,
   "id": "4a5a2bcc",
   "metadata": {},
   "outputs": [],
   "source": [
    "df = pd.read_csv(os.path.join(path,  'boat_data.csv'), index_col = False)"
   ]
  },
  {
   "cell_type": "markdown",
   "id": "a450ed49",
   "metadata": {},
   "source": [
    "## Understanding Data"
   ]
  },
  {
   "cell_type": "code",
   "execution_count": 9,
   "id": "a458f89c",
   "metadata": {},
   "outputs": [
    {
     "data": {
      "text/plain": [
       "(9337, 10)"
      ]
     },
     "execution_count": 9,
     "metadata": {},
     "output_type": "execute_result"
    }
   ],
   "source": [
    "df.shape"
   ]
  },
  {
   "cell_type": "code",
   "execution_count": 10,
   "id": "c823f25d",
   "metadata": {},
   "outputs": [
    {
     "data": {
      "text/html": [
       "<div>\n",
       "<style scoped>\n",
       "    .dataframe tbody tr th:only-of-type {\n",
       "        vertical-align: middle;\n",
       "    }\n",
       "\n",
       "    .dataframe tbody tr th {\n",
       "        vertical-align: top;\n",
       "    }\n",
       "\n",
       "    .dataframe thead th {\n",
       "        text-align: right;\n",
       "    }\n",
       "</style>\n",
       "<table border=\"1\" class=\"dataframe\">\n",
       "  <thead>\n",
       "    <tr style=\"text-align: right;\">\n",
       "      <th></th>\n",
       "      <th>Price</th>\n",
       "      <th>Boat Type</th>\n",
       "      <th>Manufacturer</th>\n",
       "      <th>Type</th>\n",
       "      <th>Year Built</th>\n",
       "      <th>Length</th>\n",
       "      <th>Width</th>\n",
       "      <th>Material</th>\n",
       "      <th>Location</th>\n",
       "      <th>Number of views last 7 days</th>\n",
       "    </tr>\n",
       "  </thead>\n",
       "  <tbody>\n",
       "    <tr>\n",
       "      <th>0</th>\n",
       "      <td>CHF 3337</td>\n",
       "      <td>Motor Yacht</td>\n",
       "      <td>Rigiflex power boats</td>\n",
       "      <td>new boat from stock</td>\n",
       "      <td>2017</td>\n",
       "      <td>4.00</td>\n",
       "      <td>1.90</td>\n",
       "      <td>NaN</td>\n",
       "      <td>Switzerland Â» Lake Geneva Â» VÃ©senaz</td>\n",
       "      <td>226</td>\n",
       "    </tr>\n",
       "    <tr>\n",
       "      <th>1</th>\n",
       "      <td>EUR 3490</td>\n",
       "      <td>Center console boat</td>\n",
       "      <td>Terhi power boats</td>\n",
       "      <td>new boat from stock</td>\n",
       "      <td>2020</td>\n",
       "      <td>4.00</td>\n",
       "      <td>1.50</td>\n",
       "      <td>Thermoplastic</td>\n",
       "      <td>Germany Â» BÃ¶nningstedt</td>\n",
       "      <td>75</td>\n",
       "    </tr>\n",
       "    <tr>\n",
       "      <th>2</th>\n",
       "      <td>DKK 25900</td>\n",
       "      <td>Sport Boat</td>\n",
       "      <td>Pioner power boats</td>\n",
       "      <td>new boat from stock</td>\n",
       "      <td>2020</td>\n",
       "      <td>3.00</td>\n",
       "      <td>1.00</td>\n",
       "      <td>NaN</td>\n",
       "      <td>Denmark Â» Svendborg</td>\n",
       "      <td>64</td>\n",
       "    </tr>\n",
       "    <tr>\n",
       "      <th>3</th>\n",
       "      <td>EUR 3399</td>\n",
       "      <td>Fishing Boat</td>\n",
       "      <td>Linder power boats</td>\n",
       "      <td>new boat from stock</td>\n",
       "      <td>2019</td>\n",
       "      <td>3.55</td>\n",
       "      <td>1.46</td>\n",
       "      <td>Aluminium</td>\n",
       "      <td>Germany Â» Bayern Â» MÃ¼nchen</td>\n",
       "      <td>58</td>\n",
       "    </tr>\n",
       "    <tr>\n",
       "      <th>4</th>\n",
       "      <td>CHF 3600</td>\n",
       "      <td>Catamaran</td>\n",
       "      <td>NaN</td>\n",
       "      <td>Used boat,Unleaded</td>\n",
       "      <td>1999</td>\n",
       "      <td>6.20</td>\n",
       "      <td>2.38</td>\n",
       "      <td>Aluminium</td>\n",
       "      <td>Switzerland Â» Neuenburgersee Â» Yvonand</td>\n",
       "      <td>474</td>\n",
       "    </tr>\n",
       "  </tbody>\n",
       "</table>\n",
       "</div>"
      ],
      "text/plain": [
       "       Price            Boat Type          Manufacturer                 Type  \\\n",
       "0   CHF 3337          Motor Yacht  Rigiflex power boats  new boat from stock   \n",
       "1   EUR 3490  Center console boat     Terhi power boats  new boat from stock   \n",
       "2  DKK 25900           Sport Boat    Pioner power boats  new boat from stock   \n",
       "3   EUR 3399         Fishing Boat    Linder power boats  new boat from stock   \n",
       "4   CHF 3600            Catamaran                   NaN   Used boat,Unleaded   \n",
       "\n",
       "   Year Built  Length  Width       Material  \\\n",
       "0        2017    4.00   1.90            NaN   \n",
       "1        2020    4.00   1.50  Thermoplastic   \n",
       "2        2020    3.00   1.00            NaN   \n",
       "3        2019    3.55   1.46      Aluminium   \n",
       "4        1999    6.20   2.38      Aluminium   \n",
       "\n",
       "                                    Location  Number of views last 7 days  \n",
       "0     Switzerland Â» Lake Geneva Â» VÃ©senaz                          226  \n",
       "1                   Germany Â» BÃ¶nningstedt                           75  \n",
       "2                       Denmark Â» Svendborg                           64  \n",
       "3              Germany Â» Bayern Â» MÃ¼nchen                           58  \n",
       "4  Switzerland Â» Neuenburgersee Â» Yvonand                           474  "
      ]
     },
     "execution_count": 10,
     "metadata": {},
     "output_type": "execute_result"
    }
   ],
   "source": [
    "df.head()"
   ]
  },
  {
   "cell_type": "code",
   "execution_count": 11,
   "id": "81f01ed2",
   "metadata": {},
   "outputs": [
    {
     "ename": "SyntaxError",
     "evalue": "invalid syntax (42962409.py, line 1)",
     "output_type": "error",
     "traceback": [
      "\u001b[1;36m  Cell \u001b[1;32mIn[11], line 1\u001b[1;36m\u001b[0m\n\u001b[1;33m    df.rename(column ={'Unnamed: 7'}:{'Material'},inplace = True)\u001b[0m\n\u001b[1;37m                                    ^\u001b[0m\n\u001b[1;31mSyntaxError\u001b[0m\u001b[1;31m:\u001b[0m invalid syntax\n"
     ]
    }
   ],
   "source": [
    "df.rename(column ={'Unnamed: 7'}:{'Material'},inplace = True)"
   ]
  },
  {
   "cell_type": "code",
   "execution_count": 12,
   "id": "a8bb311b",
   "metadata": {
    "scrolled": true
   },
   "outputs": [
    {
     "data": {
      "text/html": [
       "<div>\n",
       "<style scoped>\n",
       "    .dataframe tbody tr th:only-of-type {\n",
       "        vertical-align: middle;\n",
       "    }\n",
       "\n",
       "    .dataframe tbody tr th {\n",
       "        vertical-align: top;\n",
       "    }\n",
       "\n",
       "    .dataframe thead th {\n",
       "        text-align: right;\n",
       "    }\n",
       "</style>\n",
       "<table border=\"1\" class=\"dataframe\">\n",
       "  <thead>\n",
       "    <tr style=\"text-align: right;\">\n",
       "      <th></th>\n",
       "      <th>Year Built</th>\n",
       "      <th>Length</th>\n",
       "      <th>Width</th>\n",
       "      <th>Number of views last 7 days</th>\n",
       "    </tr>\n",
       "  </thead>\n",
       "  <tbody>\n",
       "    <tr>\n",
       "      <th>count</th>\n",
       "      <td>9337.000000</td>\n",
       "      <td>9328.000000</td>\n",
       "      <td>9282.000000</td>\n",
       "      <td>9337.000000</td>\n",
       "    </tr>\n",
       "    <tr>\n",
       "      <th>mean</th>\n",
       "      <td>2004.914962</td>\n",
       "      <td>11.751177</td>\n",
       "      <td>3.558964</td>\n",
       "      <td>150.219557</td>\n",
       "    </tr>\n",
       "    <tr>\n",
       "      <th>std</th>\n",
       "      <td>16.356241</td>\n",
       "      <td>6.029415</td>\n",
       "      <td>1.218831</td>\n",
       "      <td>154.654566</td>\n",
       "    </tr>\n",
       "    <tr>\n",
       "      <th>min</th>\n",
       "      <td>1885.000000</td>\n",
       "      <td>1.040000</td>\n",
       "      <td>0.010000</td>\n",
       "      <td>13.000000</td>\n",
       "    </tr>\n",
       "    <tr>\n",
       "      <th>25%</th>\n",
       "      <td>1999.000000</td>\n",
       "      <td>7.570000</td>\n",
       "      <td>2.550000</td>\n",
       "      <td>70.000000</td>\n",
       "    </tr>\n",
       "    <tr>\n",
       "      <th>50%</th>\n",
       "      <td>2008.000000</td>\n",
       "      <td>10.500000</td>\n",
       "      <td>3.400000</td>\n",
       "      <td>108.000000</td>\n",
       "    </tr>\n",
       "    <tr>\n",
       "      <th>75%</th>\n",
       "      <td>2018.000000</td>\n",
       "      <td>14.000000</td>\n",
       "      <td>4.270000</td>\n",
       "      <td>172.000000</td>\n",
       "    </tr>\n",
       "    <tr>\n",
       "      <th>max</th>\n",
       "      <td>2021.000000</td>\n",
       "      <td>100.000000</td>\n",
       "      <td>25.160000</td>\n",
       "      <td>3263.000000</td>\n",
       "    </tr>\n",
       "  </tbody>\n",
       "</table>\n",
       "</div>"
      ],
      "text/plain": [
       "        Year Built       Length        Width  Number of views last 7 days\n",
       "count  9337.000000  9328.000000  9282.000000                  9337.000000\n",
       "mean   2004.914962    11.751177     3.558964                   150.219557\n",
       "std      16.356241     6.029415     1.218831                   154.654566\n",
       "min    1885.000000     1.040000     0.010000                    13.000000\n",
       "25%    1999.000000     7.570000     2.550000                    70.000000\n",
       "50%    2008.000000    10.500000     3.400000                   108.000000\n",
       "75%    2018.000000    14.000000     4.270000                   172.000000\n",
       "max    2021.000000   100.000000    25.160000                  3263.000000"
      ]
     },
     "execution_count": 12,
     "metadata": {},
     "output_type": "execute_result"
    }
   ],
   "source": [
    "df.describe()"
   ]
  },
  {
   "cell_type": "code",
   "execution_count": 13,
   "id": "2aec5751",
   "metadata": {
    "scrolled": true
   },
   "outputs": [
    {
     "data": {
      "text/plain": [
       "Index(['Price', 'Boat Type', 'Manufacturer', 'Type', 'Year Built', 'Length',\n",
       "       'Width', 'Material', 'Location', 'Number of views last 7 days'],\n",
       "      dtype='object')"
      ]
     },
     "execution_count": 13,
     "metadata": {},
     "output_type": "execute_result"
    }
   ],
   "source": [
    "df.columns"
   ]
  },
  {
   "cell_type": "code",
   "execution_count": 14,
   "id": "2e1824cb",
   "metadata": {},
   "outputs": [
    {
     "data": {
      "text/plain": [
       "Price                           object\n",
       "Boat Type                       object\n",
       "Manufacturer                    object\n",
       "Type                            object\n",
       "Year Built                       int64\n",
       "Length                         float64\n",
       "Width                          float64\n",
       "Material                        object\n",
       "Location                        object\n",
       "Number of views last 7 days      int64\n",
       "dtype: object"
      ]
     },
     "execution_count": 14,
     "metadata": {},
     "output_type": "execute_result"
    }
   ],
   "source": [
    "df.dtypes"
   ]
  },
  {
   "cell_type": "markdown",
   "id": "df8e32ee",
   "metadata": {},
   "source": [
    "## Data consistency check"
   ]
  },
  {
   "cell_type": "code",
   "execution_count": 15,
   "id": "9387dad0",
   "metadata": {},
   "outputs": [
    {
     "data": {
      "text/plain": [
       "Price                             0\n",
       "Boat Type                         0\n",
       "Manufacturer                   1286\n",
       "Type                              5\n",
       "Year Built                        0\n",
       "Length                            9\n",
       "Width                            55\n",
       "Material                       1662\n",
       "Location                         36\n",
       "Number of views last 7 days       0\n",
       "dtype: int64"
      ]
     },
     "execution_count": 15,
     "metadata": {},
     "output_type": "execute_result"
    }
   ],
   "source": [
    "# checking for missing  values\n",
    "df.isnull().sum()"
   ]
  },
  {
   "cell_type": "code",
   "execution_count": 16,
   "id": "d7521116",
   "metadata": {},
   "outputs": [],
   "source": [
    "##making a subset of nan values Material column\n",
    "df_nan = df[df['Material'].isnull() ==True]\n"
   ]
  },
  {
   "cell_type": "code",
   "execution_count": 17,
   "id": "f744651d",
   "metadata": {},
   "outputs": [
    {
     "data": {
      "text/html": [
       "<div>\n",
       "<style scoped>\n",
       "    .dataframe tbody tr th:only-of-type {\n",
       "        vertical-align: middle;\n",
       "    }\n",
       "\n",
       "    .dataframe tbody tr th {\n",
       "        vertical-align: top;\n",
       "    }\n",
       "\n",
       "    .dataframe thead th {\n",
       "        text-align: right;\n",
       "    }\n",
       "</style>\n",
       "<table border=\"1\" class=\"dataframe\">\n",
       "  <thead>\n",
       "    <tr style=\"text-align: right;\">\n",
       "      <th></th>\n",
       "      <th>Price</th>\n",
       "      <th>Boat Type</th>\n",
       "      <th>Manufacturer</th>\n",
       "      <th>Type</th>\n",
       "      <th>Year Built</th>\n",
       "      <th>Length</th>\n",
       "      <th>Width</th>\n",
       "      <th>Material</th>\n",
       "      <th>Location</th>\n",
       "      <th>Number of views last 7 days</th>\n",
       "    </tr>\n",
       "  </thead>\n",
       "  <tbody>\n",
       "    <tr>\n",
       "      <th>0</th>\n",
       "      <td>CHF 3337</td>\n",
       "      <td>Motor Yacht</td>\n",
       "      <td>Rigiflex power boats</td>\n",
       "      <td>new boat from stock</td>\n",
       "      <td>2017</td>\n",
       "      <td>4.00</td>\n",
       "      <td>1.90</td>\n",
       "      <td>NaN</td>\n",
       "      <td>Switzerland Â» Lake Geneva Â» VÃ©senaz</td>\n",
       "      <td>226</td>\n",
       "    </tr>\n",
       "    <tr>\n",
       "      <th>2</th>\n",
       "      <td>DKK 25900</td>\n",
       "      <td>Sport Boat</td>\n",
       "      <td>Pioner power boats</td>\n",
       "      <td>new boat from stock</td>\n",
       "      <td>2020</td>\n",
       "      <td>3.00</td>\n",
       "      <td>1.00</td>\n",
       "      <td>NaN</td>\n",
       "      <td>Denmark Â» Svendborg</td>\n",
       "      <td>64</td>\n",
       "    </tr>\n",
       "    <tr>\n",
       "      <th>5</th>\n",
       "      <td>EUR 3333</td>\n",
       "      <td>Fishing Boat</td>\n",
       "      <td>Crescent power boats</td>\n",
       "      <td>new boat from stock</td>\n",
       "      <td>2019</td>\n",
       "      <td>3.64</td>\n",
       "      <td>1.37</td>\n",
       "      <td>NaN</td>\n",
       "      <td>Germany Â» Bayern Â» Boote+service Oberbayern</td>\n",
       "      <td>45</td>\n",
       "    </tr>\n",
       "    <tr>\n",
       "      <th>6</th>\n",
       "      <td>EUR 3300</td>\n",
       "      <td>Pontoon Boat</td>\n",
       "      <td>Whaly power boats</td>\n",
       "      <td>new boat from stock</td>\n",
       "      <td>2018</td>\n",
       "      <td>4.35</td>\n",
       "      <td>1.73</td>\n",
       "      <td>NaN</td>\n",
       "      <td>Italy Â» Dormelletto</td>\n",
       "      <td>180</td>\n",
       "    </tr>\n",
       "    <tr>\n",
       "      <th>11</th>\n",
       "      <td>DKK 30000</td>\n",
       "      <td>Sport Boat</td>\n",
       "      <td>NaN</td>\n",
       "      <td>Used boat</td>\n",
       "      <td>1985</td>\n",
       "      <td>4.00</td>\n",
       "      <td>1.00</td>\n",
       "      <td>NaN</td>\n",
       "      <td>Denmark Â» Svendborg</td>\n",
       "      <td>124</td>\n",
       "    </tr>\n",
       "    <tr>\n",
       "      <th>...</th>\n",
       "      <td>...</td>\n",
       "      <td>...</td>\n",
       "      <td>...</td>\n",
       "      <td>...</td>\n",
       "      <td>...</td>\n",
       "      <td>...</td>\n",
       "      <td>...</td>\n",
       "      <td>...</td>\n",
       "      <td>...</td>\n",
       "      <td>...</td>\n",
       "    </tr>\n",
       "    <tr>\n",
       "      <th>9321</th>\n",
       "      <td>DKK 36500</td>\n",
       "      <td>Sport Boat</td>\n",
       "      <td>NaN</td>\n",
       "      <td>Used boat</td>\n",
       "      <td>1985</td>\n",
       "      <td>4.00</td>\n",
       "      <td>1.00</td>\n",
       "      <td>NaN</td>\n",
       "      <td>Denmark Â» Svendborg</td>\n",
       "      <td>96</td>\n",
       "    </tr>\n",
       "    <tr>\n",
       "      <th>9322</th>\n",
       "      <td>DKK 36500</td>\n",
       "      <td>Fishing Boat</td>\n",
       "      <td>Hunter power boats</td>\n",
       "      <td>Used boat</td>\n",
       "      <td>2000</td>\n",
       "      <td>5.00</td>\n",
       "      <td>1.00</td>\n",
       "      <td>NaN</td>\n",
       "      <td>Denmark Â» Svendborg</td>\n",
       "      <td>87</td>\n",
       "    </tr>\n",
       "    <tr>\n",
       "      <th>9327</th>\n",
       "      <td>EUR 4799</td>\n",
       "      <td>Working Boat</td>\n",
       "      <td>NaN</td>\n",
       "      <td>new boat from stock,Electric</td>\n",
       "      <td>2019</td>\n",
       "      <td>3.64</td>\n",
       "      <td>1.37</td>\n",
       "      <td>NaN</td>\n",
       "      <td>Germany Â» Bayern Â» Boote Jochum</td>\n",
       "      <td>41</td>\n",
       "    </tr>\n",
       "    <tr>\n",
       "      <th>9333</th>\n",
       "      <td>CHF 4900</td>\n",
       "      <td>Sport Boat</td>\n",
       "      <td>Sea Ray power boats</td>\n",
       "      <td>Used boat,Unleaded</td>\n",
       "      <td>1987</td>\n",
       "      <td>6.30</td>\n",
       "      <td>2.44</td>\n",
       "      <td>NaN</td>\n",
       "      <td>Switzerland Â» Lago Maggiore Â» Riazzino</td>\n",
       "      <td>1116</td>\n",
       "    </tr>\n",
       "    <tr>\n",
       "      <th>9335</th>\n",
       "      <td>EUR 4300</td>\n",
       "      <td>Pontoon Boat</td>\n",
       "      <td>Whaly power boats</td>\n",
       "      <td>new boat from stock</td>\n",
       "      <td>2018</td>\n",
       "      <td>4.37</td>\n",
       "      <td>1.89</td>\n",
       "      <td>NaN</td>\n",
       "      <td>Italy Â» Dormelletto</td>\n",
       "      <td>266</td>\n",
       "    </tr>\n",
       "  </tbody>\n",
       "</table>\n",
       "<p>1662 rows × 10 columns</p>\n",
       "</div>"
      ],
      "text/plain": [
       "          Price     Boat Type          Manufacturer  \\\n",
       "0      CHF 3337   Motor Yacht  Rigiflex power boats   \n",
       "2     DKK 25900    Sport Boat    Pioner power boats   \n",
       "5      EUR 3333  Fishing Boat  Crescent power boats   \n",
       "6      EUR 3300  Pontoon Boat     Whaly power boats   \n",
       "11    DKK 30000    Sport Boat                   NaN   \n",
       "...         ...           ...                   ...   \n",
       "9321  DKK 36500    Sport Boat                   NaN   \n",
       "9322  DKK 36500  Fishing Boat    Hunter power boats   \n",
       "9327   EUR 4799  Working Boat                   NaN   \n",
       "9333   CHF 4900    Sport Boat   Sea Ray power boats   \n",
       "9335   EUR 4300  Pontoon Boat     Whaly power boats   \n",
       "\n",
       "                              Type  Year Built  Length  Width Material  \\\n",
       "0              new boat from stock        2017    4.00   1.90      NaN   \n",
       "2              new boat from stock        2020    3.00   1.00      NaN   \n",
       "5              new boat from stock        2019    3.64   1.37      NaN   \n",
       "6              new boat from stock        2018    4.35   1.73      NaN   \n",
       "11                       Used boat        1985    4.00   1.00      NaN   \n",
       "...                            ...         ...     ...    ...      ...   \n",
       "9321                     Used boat        1985    4.00   1.00      NaN   \n",
       "9322                     Used boat        2000    5.00   1.00      NaN   \n",
       "9327  new boat from stock,Electric        2019    3.64   1.37      NaN   \n",
       "9333            Used boat,Unleaded        1987    6.30   2.44      NaN   \n",
       "9335           new boat from stock        2018    4.37   1.89      NaN   \n",
       "\n",
       "                                           Location  \\\n",
       "0            Switzerland Â» Lake Geneva Â» VÃ©senaz   \n",
       "2                              Denmark Â» Svendborg   \n",
       "5     Germany Â» Bayern Â» Boote+service Oberbayern   \n",
       "6                             Italy Â» Dormelletto    \n",
       "11                             Denmark Â» Svendborg   \n",
       "...                                             ...   \n",
       "9321                           Denmark Â» Svendborg   \n",
       "9322                           Denmark Â» Svendborg   \n",
       "9327              Germany Â» Bayern Â» Boote Jochum   \n",
       "9333       Switzerland Â» Lago Maggiore Â» Riazzino   \n",
       "9335                          Italy Â» Dormelletto    \n",
       "\n",
       "      Number of views last 7 days  \n",
       "0                             226  \n",
       "2                              64  \n",
       "5                              45  \n",
       "6                             180  \n",
       "11                            124  \n",
       "...                           ...  \n",
       "9321                           96  \n",
       "9322                           87  \n",
       "9327                           41  \n",
       "9333                         1116  \n",
       "9335                          266  \n",
       "\n",
       "[1662 rows x 10 columns]"
      ]
     },
     "execution_count": 17,
     "metadata": {},
     "output_type": "execute_result"
    }
   ],
   "source": [
    "df_nan"
   ]
  },
  {
   "cell_type": "code",
   "execution_count": 18,
   "id": "85180e11",
   "metadata": {},
   "outputs": [],
   "source": [
    "##making a subset of nan values Manufacturer  column\n",
    "df_nan_manufacture = df[df['Manufacturer'].isnull() ==True]"
   ]
  },
  {
   "cell_type": "code",
   "execution_count": 19,
   "id": "b51e0923",
   "metadata": {},
   "outputs": [
    {
     "data": {
      "text/html": [
       "<div>\n",
       "<style scoped>\n",
       "    .dataframe tbody tr th:only-of-type {\n",
       "        vertical-align: middle;\n",
       "    }\n",
       "\n",
       "    .dataframe tbody tr th {\n",
       "        vertical-align: top;\n",
       "    }\n",
       "\n",
       "    .dataframe thead th {\n",
       "        text-align: right;\n",
       "    }\n",
       "</style>\n",
       "<table border=\"1\" class=\"dataframe\">\n",
       "  <thead>\n",
       "    <tr style=\"text-align: right;\">\n",
       "      <th></th>\n",
       "      <th>Price</th>\n",
       "      <th>Boat Type</th>\n",
       "      <th>Manufacturer</th>\n",
       "      <th>Type</th>\n",
       "      <th>Year Built</th>\n",
       "      <th>Length</th>\n",
       "      <th>Width</th>\n",
       "      <th>Material</th>\n",
       "      <th>Location</th>\n",
       "      <th>Number of views last 7 days</th>\n",
       "    </tr>\n",
       "  </thead>\n",
       "  <tbody>\n",
       "    <tr>\n",
       "      <th>4</th>\n",
       "      <td>CHF 3600</td>\n",
       "      <td>Catamaran</td>\n",
       "      <td>NaN</td>\n",
       "      <td>Used boat,Unleaded</td>\n",
       "      <td>1999</td>\n",
       "      <td>6.20</td>\n",
       "      <td>2.38</td>\n",
       "      <td>Aluminium</td>\n",
       "      <td>Switzerland Â» Neuenburgersee Â» Yvonand</td>\n",
       "      <td>474</td>\n",
       "    </tr>\n",
       "    <tr>\n",
       "      <th>11</th>\n",
       "      <td>DKK 30000</td>\n",
       "      <td>Sport Boat</td>\n",
       "      <td>NaN</td>\n",
       "      <td>Used boat</td>\n",
       "      <td>1985</td>\n",
       "      <td>4.00</td>\n",
       "      <td>1.00</td>\n",
       "      <td>NaN</td>\n",
       "      <td>Denmark Â» Svendborg</td>\n",
       "      <td>124</td>\n",
       "    </tr>\n",
       "    <tr>\n",
       "      <th>13</th>\n",
       "      <td>EUR 4000</td>\n",
       "      <td>Cabin Boat</td>\n",
       "      <td>NaN</td>\n",
       "      <td>Used boat,Unleaded</td>\n",
       "      <td>2011</td>\n",
       "      <td>6.37</td>\n",
       "      <td>2.31</td>\n",
       "      <td>GRP</td>\n",
       "      <td>Germany Â» Bayern Â» Forchheim/Ofr.</td>\n",
       "      <td>330</td>\n",
       "    </tr>\n",
       "    <tr>\n",
       "      <th>17</th>\n",
       "      <td>EUR 3900</td>\n",
       "      <td>Cabin Boat</td>\n",
       "      <td>NaN</td>\n",
       "      <td>Used boat</td>\n",
       "      <td>1985</td>\n",
       "      <td>6.53</td>\n",
       "      <td>2.47</td>\n",
       "      <td>NaN</td>\n",
       "      <td>France Â» Marseille, France</td>\n",
       "      <td>383</td>\n",
       "    </tr>\n",
       "    <tr>\n",
       "      <th>20</th>\n",
       "      <td>CHF 4000</td>\n",
       "      <td>Fishing Boat</td>\n",
       "      <td>NaN</td>\n",
       "      <td>Used boat,Unleaded</td>\n",
       "      <td>1994</td>\n",
       "      <td>5.60</td>\n",
       "      <td>1.58</td>\n",
       "      <td>GRP</td>\n",
       "      <td>Switzerland Â» Lake of Zurich Â» Altendorf SZ</td>\n",
       "      <td>641</td>\n",
       "    </tr>\n",
       "    <tr>\n",
       "      <th>...</th>\n",
       "      <td>...</td>\n",
       "      <td>...</td>\n",
       "      <td>...</td>\n",
       "      <td>...</td>\n",
       "      <td>...</td>\n",
       "      <td>...</td>\n",
       "      <td>...</td>\n",
       "      <td>...</td>\n",
       "      <td>...</td>\n",
       "      <td>...</td>\n",
       "    </tr>\n",
       "    <tr>\n",
       "      <th>9319</th>\n",
       "      <td>EUR 4999</td>\n",
       "      <td>Pilothouse</td>\n",
       "      <td>NaN</td>\n",
       "      <td>Used boat,Diesel</td>\n",
       "      <td>1955</td>\n",
       "      <td>9.00</td>\n",
       "      <td>3.00</td>\n",
       "      <td>GRP</td>\n",
       "      <td>Germany Â» Schleswig-Holstein Â» Burg/Dithmars...</td>\n",
       "      <td>173</td>\n",
       "    </tr>\n",
       "    <tr>\n",
       "      <th>9320</th>\n",
       "      <td>EUR 4990</td>\n",
       "      <td>Cabin Boat</td>\n",
       "      <td>NaN</td>\n",
       "      <td>Unleaded</td>\n",
       "      <td>1987</td>\n",
       "      <td>6.50</td>\n",
       "      <td>2.50</td>\n",
       "      <td>GRP</td>\n",
       "      <td>Germany Â» Verkaufshafen Brandenburg-Plaue</td>\n",
       "      <td>190</td>\n",
       "    </tr>\n",
       "    <tr>\n",
       "      <th>9321</th>\n",
       "      <td>DKK 36500</td>\n",
       "      <td>Sport Boat</td>\n",
       "      <td>NaN</td>\n",
       "      <td>Used boat</td>\n",
       "      <td>1985</td>\n",
       "      <td>4.00</td>\n",
       "      <td>1.00</td>\n",
       "      <td>NaN</td>\n",
       "      <td>Denmark Â» Svendborg</td>\n",
       "      <td>96</td>\n",
       "    </tr>\n",
       "    <tr>\n",
       "      <th>9327</th>\n",
       "      <td>EUR 4799</td>\n",
       "      <td>Working Boat</td>\n",
       "      <td>NaN</td>\n",
       "      <td>new boat from stock,Electric</td>\n",
       "      <td>2019</td>\n",
       "      <td>3.64</td>\n",
       "      <td>1.37</td>\n",
       "      <td>NaN</td>\n",
       "      <td>Germany Â» Bayern Â» Boote Jochum</td>\n",
       "      <td>41</td>\n",
       "    </tr>\n",
       "    <tr>\n",
       "      <th>9329</th>\n",
       "      <td>EUR 4790</td>\n",
       "      <td>Classic</td>\n",
       "      <td>NaN</td>\n",
       "      <td>Used boat</td>\n",
       "      <td>1962</td>\n",
       "      <td>4.10</td>\n",
       "      <td>1.50</td>\n",
       "      <td>Wood</td>\n",
       "      <td>Austria Â» PÃ¶llau</td>\n",
       "      <td>188</td>\n",
       "    </tr>\n",
       "  </tbody>\n",
       "</table>\n",
       "<p>1286 rows × 10 columns</p>\n",
       "</div>"
      ],
      "text/plain": [
       "          Price     Boat Type Manufacturer                          Type  \\\n",
       "4      CHF 3600     Catamaran          NaN            Used boat,Unleaded   \n",
       "11    DKK 30000    Sport Boat          NaN                     Used boat   \n",
       "13     EUR 4000    Cabin Boat          NaN            Used boat,Unleaded   \n",
       "17     EUR 3900    Cabin Boat          NaN                     Used boat   \n",
       "20     CHF 4000  Fishing Boat          NaN            Used boat,Unleaded   \n",
       "...         ...           ...          ...                           ...   \n",
       "9319   EUR 4999    Pilothouse          NaN              Used boat,Diesel   \n",
       "9320   EUR 4990    Cabin Boat          NaN                      Unleaded   \n",
       "9321  DKK 36500    Sport Boat          NaN                     Used boat   \n",
       "9327   EUR 4799  Working Boat          NaN  new boat from stock,Electric   \n",
       "9329   EUR 4790       Classic          NaN                     Used boat   \n",
       "\n",
       "      Year Built  Length  Width   Material  \\\n",
       "4           1999    6.20   2.38  Aluminium   \n",
       "11          1985    4.00   1.00        NaN   \n",
       "13          2011    6.37   2.31        GRP   \n",
       "17          1985    6.53   2.47        NaN   \n",
       "20          1994    5.60   1.58        GRP   \n",
       "...          ...     ...    ...        ...   \n",
       "9319        1955    9.00   3.00        GRP   \n",
       "9320        1987    6.50   2.50        GRP   \n",
       "9321        1985    4.00   1.00        NaN   \n",
       "9327        2019    3.64   1.37        NaN   \n",
       "9329        1962    4.10   1.50       Wood   \n",
       "\n",
       "                                               Location  \\\n",
       "4             Switzerland Â» Neuenburgersee Â» Yvonand    \n",
       "11                                 Denmark Â» Svendborg   \n",
       "13                  Germany Â» Bayern Â» Forchheim/Ofr.   \n",
       "17                          France Â» Marseille, France   \n",
       "20        Switzerland Â» Lake of Zurich Â» Altendorf SZ   \n",
       "...                                                 ...   \n",
       "9319  Germany Â» Schleswig-Holstein Â» Burg/Dithmars...   \n",
       "9320         Germany Â» Verkaufshafen Brandenburg-Plaue   \n",
       "9321                               Denmark Â» Svendborg   \n",
       "9327                  Germany Â» Bayern Â» Boote Jochum   \n",
       "9329                                 Austria Â» PÃ¶llau   \n",
       "\n",
       "      Number of views last 7 days  \n",
       "4                             474  \n",
       "11                            124  \n",
       "13                            330  \n",
       "17                            383  \n",
       "20                            641  \n",
       "...                           ...  \n",
       "9319                          173  \n",
       "9320                          190  \n",
       "9321                           96  \n",
       "9327                           41  \n",
       "9329                          188  \n",
       "\n",
       "[1286 rows x 10 columns]"
      ]
     },
     "execution_count": 19,
     "metadata": {},
     "output_type": "execute_result"
    }
   ],
   "source": [
    "df_nan_manufacture"
   ]
  },
  {
   "cell_type": "code",
   "execution_count": 20,
   "id": "6af54642",
   "metadata": {
    "scrolled": true
   },
   "outputs": [
    {
     "data": {
      "text/plain": [
       "(9337, 10)"
      ]
     },
     "execution_count": 20,
     "metadata": {},
     "output_type": "execute_result"
    }
   ],
   "source": [
    "df.shape"
   ]
  },
  {
   "cell_type": "code",
   "execution_count": 21,
   "id": "5c57904a",
   "metadata": {},
   "outputs": [],
   "source": [
    "#addressing missing values\n",
    "df_clean = df[df['Material'].isnull() == False]\n"
   ]
  },
  {
   "cell_type": "code",
   "execution_count": 22,
   "id": "179bdf3a",
   "metadata": {},
   "outputs": [],
   "source": [
    "df_clean = df_clean[df_clean['Manufacturer'].isnull() == False]"
   ]
  },
  {
   "cell_type": "code",
   "execution_count": 23,
   "id": "2449aba9",
   "metadata": {},
   "outputs": [],
   "source": [
    "df_clean = df_clean[df_clean['Location'].isnull() == False]"
   ]
  },
  {
   "cell_type": "code",
   "execution_count": 24,
   "id": "c426854c",
   "metadata": {},
   "outputs": [],
   "source": [
    "# impute missing values in width column with mean value \n",
    "df_clean['Width'].fillna(3.52, inplace = True)"
   ]
  },
  {
   "cell_type": "code",
   "execution_count": 25,
   "id": "6a3631f2",
   "metadata": {},
   "outputs": [],
   "source": [
    "# impute missing values in Length column with mean value \n",
    "df_clean['Length'].fillna(11.5, inplace = True)"
   ]
  },
  {
   "cell_type": "code",
   "execution_count": 42,
   "id": "443a72b9",
   "metadata": {},
   "outputs": [
    {
     "data": {
      "text/plain": [
       "Price                          0\n",
       "Boat Type                      0\n",
       "Manufacturer                   0\n",
       "Type                           0\n",
       "Year Built                     0\n",
       "Length                         0\n",
       "Width                          0\n",
       "Material                       0\n",
       "Location                       0\n",
       "Number of views last 7 days    0\n",
       "dtype: int64"
      ]
     },
     "execution_count": 42,
     "metadata": {},
     "output_type": "execute_result"
    }
   ],
   "source": [
    "df_clean.isnull().sum()"
   ]
  },
  {
   "cell_type": "code",
   "execution_count": 43,
   "id": "152440b1",
   "metadata": {},
   "outputs": [
    {
     "data": {
      "text/plain": [
       "(7037, 10)"
      ]
     },
     "execution_count": 43,
     "metadata": {},
     "output_type": "execute_result"
    }
   ],
   "source": [
    "df_clean.shape"
   ]
  },
  {
   "cell_type": "code",
   "execution_count": 45,
   "id": "100ca886",
   "metadata": {},
   "outputs": [],
   "source": [
    "# finding duplicates \n",
    "df_dup = df_clean[df_clean.duplicated()]"
   ]
  },
  {
   "cell_type": "markdown",
   "id": "5bf613f1",
   "metadata": {},
   "source": [
    "No duplicates found"
   ]
  },
  {
   "cell_type": "code",
   "execution_count": 49,
   "id": "4dc49b42",
   "metadata": {},
   "outputs": [],
   "source": [
    "#Mixed data types\n",
    "for col in df_clean.columns.tolist():\n",
    "  weird = (df_clean[[col]].applymap(type) != df_clean[[col]].iloc[0].apply(type)).any(axis = 1)\n",
    "  if len (df_clean[weird]) > 0:\n",
    "    print (col)"
   ]
  },
  {
   "cell_type": "markdown",
   "id": "0157d08c",
   "metadata": {},
   "source": [
    "No Mixed data types found "
   ]
  },
  {
   "cell_type": "code",
   "execution_count": 26,
   "id": "15a26a45",
   "metadata": {},
   "outputs": [],
   "source": [
    "#Export clean data\n",
    "df_clean.to_csv(os.path.join(path, 'boat_clean.csv'))"
   ]
  },
  {
   "cell_type": "code",
   "execution_count": null,
   "id": "f3aa71a7",
   "metadata": {},
   "outputs": [],
   "source": []
  }
 ],
 "metadata": {
  "kernelspec": {
   "display_name": "Python 3 (ipykernel)",
   "language": "python",
   "name": "python3"
  },
  "language_info": {
   "codemirror_mode": {
    "name": "ipython",
    "version": 3
   },
   "file_extension": ".py",
   "mimetype": "text/x-python",
   "name": "python",
   "nbconvert_exporter": "python",
   "pygments_lexer": "ipython3",
   "version": "3.11.5"
  }
 },
 "nbformat": 4,
 "nbformat_minor": 5
}
